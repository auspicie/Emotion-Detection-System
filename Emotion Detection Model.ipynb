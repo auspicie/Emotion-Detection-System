{
 "cells": [
  {
   "cell_type": "code",
   "execution_count": null,
   "id": "922af4ec-8cdf-4e35-bf88-d66d1702e8eb",
   "metadata": {},
   "outputs": [],
   "source": [
    "!pip install tensorflow"
   ]
  },
  {
   "cell_type": "code",
   "execution_count": null,
   "id": "4cec9558-906c-4799-a677-f89b76719b62",
   "metadata": {},
   "outputs": [],
   "source": [
    "!pip install keras"
   ]
  },
  {
   "cell_type": "code",
   "execution_count": null,
   "id": "4375657b-6d5c-4561-9443-3bf5312822cb",
   "metadata": {},
   "outputs": [],
   "source": [
    "import os\n",
    "import cv2\n",
    "import numpy as np\n",
    "from sklearn.model_selection import train_test_split\n",
    "from keras.models import Sequential\n",
    "from keras.layers import Conv2D, MaxPooling2D, Flatten, Dense, Dropout\n",
    "from keras.utils import to_categorical"
   ]
  },
  {
   "cell_type": "code",
   "execution_count": null,
   "id": "e3b6469a-b7e3-43b4-b729-62a0e59ad409",
   "metadata": {},
   "outputs": [],
   "source": [
    "emotion_folders = [\n",
    "    \"C:/Users/OWNER/Downloads/Alabi project Folder/Computer Vision/Udemy/Self Imple/Emotion Detection/Dataset/archive/train/surprised\",\n",
    "    \"C:/Users/OWNER/Downloads/Alabi project Folder/Computer Vision/Udemy/Self Imple/Emotion Detection/Dataset/archive/train/sad\",\n",
    "    \"C:/Users/OWNER/Downloads/Alabi project Folder/Computer Vision/Udemy/Self Imple/Emotion Detection/Dataset/archive/train/neutral\",\n",
    "    \"C:/Users/OWNER/Downloads/Alabi project Folder/Computer Vision/Udemy/Self Imple/Emotion Detection/Dataset/archive/train/happy\",\n",
    "    \"C:/Users/OWNER/Downloads/Alabi project Folder/Computer Vision/Udemy/Self Imple/Emotion Detection/Dataset/archive/train/fearful\",\n",
    "    \"C:/Users/OWNER/Downloads/Alabi project Folder/Computer Vision/Udemy/Self Imple/Emotion Detection/Dataset/archive/train/disgusted\",\n",
    "    \"C:/Users/OWNER/Downloads/Alabi project Folder/Computer Vision/Udemy/Self Imple/Emotion Detection/Dataset/archive/train/angry\"\n",
    "   ]"
   ]
  },
  {
   "cell_type": "code",
   "execution_count": null,
   "id": "7bca48d2-ca6b-4ca6-8a01-15b16089e940",
   "metadata": {},
   "outputs": [],
   "source": [
    "def load_data(emotion_folders):\n",
    "    images = []\n",
    "    labels = []\n",
    "    for i, folder in enumerate(emotion_folders):\n",
    "        for filename in os.listdir(folder):\n",
    "            img = cv2.imread(os.path.join(folder,filename), cv2.IMREAD_GRAYSCALE)\n",
    "            img = cv2.resize(img, (48,48))\n",
    "            images.append(img)\n",
    "            labels.append(i)\n",
    "    return np.array(images), np.array(labels)"
   ]
  },
  {
   "cell_type": "code",
   "execution_count": null,
   "id": "e1795a6a-17ef-470d-94bf-fdc9ae9151b5",
   "metadata": {},
   "outputs": [],
   "source": [
    "images, labels = load_data(emotion_folders)\n",
    "X_train, X_test, y_train, y_test = train_test_split(images, labels, test_size = 0.2, random_state = 42)\n",
    "X_train = X_train.reshape(X_train.shape[0], 48, 48, 1).astype('float32')/255\n",
    "X_test = X_test.reshape(X_test.shape[0], 48, 48, 1).astype('float32')/255\n",
    "\n",
    "y_train = to_categorical(y_train)\n",
    "y_test = to_categorical(y_test)"
   ]
  },
  {
   "cell_type": "code",
   "execution_count": null,
   "id": "82963ce6-295d-4903-9cbd-f68702a0c36c",
   "metadata": {},
   "outputs": [],
   "source": [
    "# Initialise, Train and Compile the Model\n",
    "model = Sequential()\n",
    "model.add(Conv2D(32, kernel_size=(3,3), activation='relu', input_shape=(48,48,1)))\n",
    "model.add(MaxPooling2D(pool_size=(2,2)))\n",
    "model.add(Dropout(0.25))\n",
    "\n",
    "model.add(Conv2D(64, kernel_size=(3,3), activation='relu'))\n",
    "model.add(MaxPooling2D(pool_size=(2,2)))\n",
    "model.add(Dropout(0.5))\n",
    "\n",
    "model.add(Flatten())\n",
    "model.add(Dense(128, activation='relu'))\n",
    "model.add(Dropout(0.5))\n",
    "model.add(Dense(7, activation='softmax'))\n",
    "\n",
    "model.compile(loss=\"categorical_crossentropy\", optimizer='adam', metrics=[\"accuracy\"])\n",
    "model.fit(X_train, y_train, batch_size=64, epochs=10, verbose=1, validation_data=(X_test, y_test))\n",
    "model.save(\"emotion_detection_model.h5\")"
   ]
  },
  {
   "cell_type": "code",
   "execution_count": null,
   "id": "a918c504-f572-4c91-ba53-01c51ddf7737",
   "metadata": {},
   "outputs": [],
   "source": []
  }
 ],
 "metadata": {
  "kernelspec": {
   "display_name": "Python 3 (ipykernel)",
   "language": "python",
   "name": "python3"
  },
  "language_info": {
   "codemirror_mode": {
    "name": "ipython",
    "version": 3
   },
   "file_extension": ".py",
   "mimetype": "text/x-python",
   "name": "python",
   "nbconvert_exporter": "python",
   "pygments_lexer": "ipython3",
   "version": "3.12.9"
  }
 },
 "nbformat": 4,
 "nbformat_minor": 5
}
